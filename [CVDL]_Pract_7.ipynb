{
  "nbformat": 4,
  "nbformat_minor": 0,
  "metadata": {
    "colab": {
      "provenance": [],
      "gpuType": "T4",
      "authorship_tag": "ABX9TyOm9bcaw+OV5l983muftD4T",
      "include_colab_link": true
    },
    "kernelspec": {
      "name": "python3",
      "display_name": "Python 3"
    },
    "language_info": {
      "name": "python"
    },
    "accelerator": "GPU"
  },
  "cells": [
    {
      "cell_type": "markdown",
      "metadata": {
        "id": "view-in-github",
        "colab_type": "text"
      },
      "source": [
        "<a href=\"https://colab.research.google.com/github/AayushPaigwar/CV-DL-Labs/blob/master/%5BCVDL%5D_Pract_7.ipynb\" target=\"_parent\"><img src=\"https://colab.research.google.com/assets/colab-badge.svg\" alt=\"Open In Colab\"/></a>"
      ]
    },
    {
      "cell_type": "code",
      "execution_count": 1,
      "metadata": {
        "colab": {
          "base_uri": "https://localhost:8080/"
        },
        "id": "YZbxvTpYWXSA",
        "outputId": "b20d4b24-d07e-4225-9611-a979023dfc15"
      },
      "outputs": [
        {
          "output_type": "stream",
          "name": "stdout",
          "text": [
            "Downloading data from https://storage.googleapis.com/tensorflow/tf-keras-datasets/mnist.npz\n",
            "11490434/11490434 [==============================] - 2s 0us/step\n",
            "Epoch 1/10\n",
            "469/469 [==============================] - 14s 11ms/step - loss: 0.2939 - accuracy: 0.9153 - val_loss: 0.0899 - val_accuracy: 0.9717\n",
            "Epoch 2/10\n",
            "469/469 [==============================] - 2s 5ms/step - loss: 0.0795 - accuracy: 0.9759 - val_loss: 0.0627 - val_accuracy: 0.9802\n",
            "Epoch 3/10\n",
            "469/469 [==============================] - 2s 5ms/step - loss: 0.0575 - accuracy: 0.9823 - val_loss: 0.0587 - val_accuracy: 0.9817\n",
            "Epoch 4/10\n",
            "469/469 [==============================] - 2s 5ms/step - loss: 0.0443 - accuracy: 0.9861 - val_loss: 0.0478 - val_accuracy: 0.9864\n",
            "Epoch 5/10\n",
            "469/469 [==============================] - 2s 5ms/step - loss: 0.0359 - accuracy: 0.9890 - val_loss: 0.0483 - val_accuracy: 0.9846\n",
            "Epoch 6/10\n",
            "469/469 [==============================] - 3s 6ms/step - loss: 0.0300 - accuracy: 0.9905 - val_loss: 0.0430 - val_accuracy: 0.9868\n",
            "Epoch 7/10\n",
            "469/469 [==============================] - 2s 5ms/step - loss: 0.0240 - accuracy: 0.9926 - val_loss: 0.0476 - val_accuracy: 0.9851\n",
            "Epoch 8/10\n",
            "469/469 [==============================] - 2s 5ms/step - loss: 0.0198 - accuracy: 0.9939 - val_loss: 0.0390 - val_accuracy: 0.9878\n",
            "Epoch 9/10\n",
            "469/469 [==============================] - 2s 5ms/step - loss: 0.0162 - accuracy: 0.9952 - val_loss: 0.0411 - val_accuracy: 0.9871\n",
            "Epoch 10/10\n",
            "469/469 [==============================] - 2s 5ms/step - loss: 0.0132 - accuracy: 0.9962 - val_loss: 0.0390 - val_accuracy: 0.9886\n",
            "313/313 [==============================] - 1s 3ms/step - loss: 0.0390 - accuracy: 0.9886\n",
            "0.9886000156402588\n"
          ]
        }
      ],
      "source": [
        "import tensorflow as tf\n",
        "import matplotlib.pyplot as plt\n",
        "from tensorflow.keras import layers, models\n",
        "from tensorflow.keras.datasets import mnist\n",
        "from tensorflow.keras.utils import to_categorical\n",
        "# Load and preprocess the MNIST dataset\n",
        "(x_train, y_train), (x_test, y_test) = mnist.load_data()\n",
        "x_train = x_train.reshape(-1, 28, 28, 1).astype('float32') / 255.0\n",
        "x_test = x_test.reshape(-1, 28, 28, 1).astype('float32') / 255.0\n",
        "y_train = to_categorical(y_train, 10)\n",
        "y_test = to_categorical(y_test, 10)\n",
        "# Define the LeNet architecture\n",
        "model = models.Sequential([\n",
        "  layers.Conv2D(6, kernel_size=(5, 5), strides=(1, 1),\n",
        "activation='tanh', input_shape=(28, 28, 1)),\n",
        "  layers.MaxPooling2D(pool_size=(2, 2), strides=(2, 2)),\n",
        "  layers.Conv2D(16, kernel_size=(5, 5), strides=(1, 1),\n",
        "activation='tanh'),\n",
        "  layers.MaxPooling2D(pool_size=(2, 2), strides=(2, 2)),\n",
        "  layers.Flatten(),\n",
        "  layers.Dense(120, activation='tanh'),\n",
        "  layers.Dense(84, activation='tanh'),\n",
        "  layers.Dense(10, activation='softmax')\n",
        "])\n",
        "# Compile the model\n",
        "\n",
        "model.compile(optimizer='adam',\n",
        "    loss='categorical_crossentropy',\n",
        "    metrics=['accuracy'])\n",
        "# Train the model\n",
        "model.fit(x_train, y_train, batch_size=128, epochs=10,\n",
        "validation_data=(x_test, y_test))\n",
        "# Evaluate the model\n",
        "test_loss, test_acc = model.evaluate(x_test, y_test)\n",
        "print(test_acc)"
      ]
    },
    {
      "cell_type": "code",
      "source": [
        "image_index0 = 4440\n",
        "plt.imshow(x_test[image_index0].reshape(28, 28),cmap='Reds')"
      ],
      "metadata": {
        "colab": {
          "base_uri": "https://localhost:8080/",
          "height": 447
        },
        "id": "-1bYEsikWaep",
        "outputId": "7e2e509b-3031-493a-fbcf-d9a1183539ed"
      },
      "execution_count": 2,
      "outputs": [
        {
          "output_type": "execute_result",
          "data": {
            "text/plain": [
              "<matplotlib.image.AxesImage at 0x7aed05646bc0>"
            ]
          },
          "metadata": {},
          "execution_count": 2
        },
        {
          "output_type": "display_data",
          "data": {
            "text/plain": [
              "<Figure size 640x480 with 1 Axes>"
            ],
            "image/png": "[encoded data removed]"
          },
          "metadata": {}
        }
      ]
    },
    {
      "cell_type": "code",
      "source": [
        "\n"
      ],
      "metadata": {
        "id": "jMqkY5doYCKP"
      },
      "execution_count": 2,
      "outputs": []
    }
  ]
}