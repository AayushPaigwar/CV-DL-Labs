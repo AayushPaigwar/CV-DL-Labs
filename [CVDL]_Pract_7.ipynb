{
  "nbformat": 4,
  "nbformat_minor": 0,
  "metadata": {
    "colab": {
      "provenance": [],
      "gpuType": "T4",
      "authorship_tag": "ABX9TyPcZqjQlloJckfpFfUz2lAi",
      "include_colab_link": true
    },
    "kernelspec": {
      "name": "python3",
      "display_name": "Python 3"
    },
    "language_info": {
      "name": "python"
    },
    "accelerator": "GPU"
  },
  "cells": [
    {
      "cell_type": "markdown",
      "metadata": {
        "id": "view-in-github",
        "colab_type": "text"
      },
      "source": [
        "<a href=\"https://colab.research.google.com/github/AayushPaigwar/CV-DL-Labs/blob/master/%5BCVDL%5D_Pract_7.ipynb\" target=\"_parent\"><img src=\"https://colab.research.google.com/assets/colab-badge.svg\" alt=\"Open In Colab\"/></a>"
      ]
    },
    {
      "cell_type": "code",
      "execution_count": 1,
      "metadata": {
        "colab": {
          "base_uri": "https://localhost:8080/"
        },
        "id": "YZbxvTpYWXSA",
        "outputId": "467615fb-9e3a-45e9-c49a-bae1967abbd4"
      },
      "outputs": [
        {
          "output_type": "stream",
          "name": "stdout",
          "text": [
            "Downloading data from https://storage.googleapis.com/tensorflow/tf-keras-datasets/mnist.npz\n",
            "11490434/11490434 [==============================] - 0s 0us/step\n",
            "Epoch 1/10\n",
            "469/469 [==============================] - 8s 7ms/step - loss: 0.2905 - accuracy: 0.9172 - val_loss: 0.0954 - val_accuracy: 0.9694\n",
            "Epoch 2/10\n",
            "469/469 [==============================] - 3s 6ms/step - loss: 0.0834 - accuracy: 0.9750 - val_loss: 0.0574 - val_accuracy: 0.9819\n",
            "Epoch 3/10\n",
            "469/469 [==============================] - 2s 5ms/step - loss: 0.0583 - accuracy: 0.9820 - val_loss: 0.0454 - val_accuracy: 0.9859\n",
            "Epoch 4/10\n",
            "469/469 [==============================] - 2s 5ms/step - loss: 0.0452 - accuracy: 0.9861 - val_loss: 0.0439 - val_accuracy: 0.9844\n",
            "Epoch 5/10\n",
            "469/469 [==============================] - 2s 5ms/step - loss: 0.0370 - accuracy: 0.9887 - val_loss: 0.0476 - val_accuracy: 0.9846\n",
            "Epoch 6/10\n",
            "469/469 [==============================] - 2s 5ms/step - loss: 0.0301 - accuracy: 0.9906 - val_loss: 0.0497 - val_accuracy: 0.9846\n",
            "Epoch 7/10\n",
            "469/469 [==============================] - 3s 6ms/step - loss: 0.0249 - accuracy: 0.9923 - val_loss: 0.0367 - val_accuracy: 0.9873\n",
            "Epoch 8/10\n",
            "469/469 [==============================] - 2s 5ms/step - loss: 0.0203 - accuracy: 0.9940 - val_loss: 0.0414 - val_accuracy: 0.9872\n",
            "Epoch 9/10\n",
            "469/469 [==============================] - 2s 5ms/step - loss: 0.0176 - accuracy: 0.9946 - val_loss: 0.0354 - val_accuracy: 0.9885\n",
            "Epoch 10/10\n",
            "469/469 [==============================] - 2s 4ms/step - loss: 0.0141 - accuracy: 0.9960 - val_loss: 0.0572 - val_accuracy: 0.9846\n",
            "313/313 [==============================] - 1s 2ms/step - loss: 0.0572 - accuracy: 0.9846\n",
            "0.9846000075340271\n"
          ]
        }
      ],
      "source": [
        "import tensorflow as tf\n",
        "import matplotlib.pyplot as plt\n",
        "from tensorflow.keras import layers, models\n",
        "from tensorflow.keras.datasets import mnist\n",
        "from tensorflow.keras.utils import to_categorical\n",
        "# Load and preprocess the MNIST dataset\n",
        "(x_train, y_train), (x_test, y_test) = mnist.load_data()\n",
        "x_train = x_train.reshape(-1, 28, 28, 1).astype('float32') / 255.0\n",
        "x_test = x_test.reshape(-1, 28, 28, 1).astype('float32') / 255.0\n",
        "y_train = to_categorical(y_train, 10)\n",
        "y_test = to_categorical(y_test, 10)\n",
        "# Define the LeNet architecture\n",
        "model = models.Sequential([\n",
        "  layers.Conv2D(6, kernel_size=(5, 5), strides=(1, 1),\n",
        "activation='tanh', input_shape=(28, 28, 1)),\n",
        "  layers.MaxPooling2D(pool_size=(2, 2), strides=(2, 2)),\n",
        "  layers.Conv2D(16, kernel_size=(5, 5), strides=(1, 1),\n",
        "activation='tanh'),\n",
        "  layers.MaxPooling2D(pool_size=(2, 2), strides=(2, 2)),\n",
        "  layers.Flatten(),\n",
        "  layers.Dense(120, activation='tanh'),\n",
        "  layers.Dense(84, activation='tanh'),\n",
        "  layers.Dense(10, activation='softmax')\n",
        "])\n",
        "# Compile the model\n",
        "\n",
        "model.compile(optimizer='adam',\n",
        "    loss='categorical_crossentropy',\n",
        "    metrics=['accuracy'])\n",
        "# Train the model\n",
        "model.fit(x_train, y_train, batch_size=128, epochs=10,\n",
        "validation_data=(x_test, y_test))\n",
        "# Evaluate the model\n",
        "test_loss, test_acc = model.evaluate(x_test, y_test)\n",
        "print(test_acc)"
      ]
    },
    {
      "cell_type": "code",
      "source": [],
      "metadata": {
        "id": "-1bYEsikWaep"
      },
      "execution_count": null,
      "outputs": []
    }
  ]
}