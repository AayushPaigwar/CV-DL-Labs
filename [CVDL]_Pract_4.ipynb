{
  "nbformat": 4,
  "nbformat_minor": 0,
  "metadata": {
    "colab": {
      "provenance": [],
      "gpuType": "T4",
      "include_colab_link": true
    },
    "kernelspec": {
      "name": "python3",
      "display_name": "Python 3"
    },
    "language_info": {
      "name": "python"
    },
    "accelerator": "GPU"
  },
  "cells": [
    {
      "cell_type": "markdown",
      "metadata": {
        "id": "view-in-github",
        "colab_type": "text"
      },
      "source": [
        "<a href=\"https://colab.research.google.com/github/AayushPaigwar/CV-DL-Labs/blob/master/%5BCVDL%5D_Pract_4.ipynb\" target=\"_parent\"><img src=\"https://colab.research.google.com/assets/colab-badge.svg\" alt=\"Open In Colab\"/></a>"
      ]
    },
    {
      "cell_type": "code",
      "execution_count": null,
      "metadata": {
        "colab": {
          "base_uri": "https://localhost:8080/"
        },
        "id": "SOUPaK9Eo4ic",
        "outputId": "3e16488a-b0d4-4f6b-970f-d246b59f4e9f"
      },
      "outputs": [
        {
          "output_type": "stream",
          "name": "stdout",
          "text": [
            "Downloading data from https://www.cs.toronto.edu/~kriz/cifar-100-python.tar.gz\n",
            "169001437/169001437 [==============================] - 13s 0us/step\n"
          ]
        }
      ],
      "source": [
        "import tensorflow as tf\n",
        "from tensorflow.keras import datasets, layers, models\n",
        "import matplotlib.pyplot as plt\n",
        "import numpy as np\n",
        "(x_train,y_train ),(x_test,y_test)=datasets.cifar100.load_data()"
      ]
    },
    {
      "cell_type": "code",
      "source": [
        "x_train.shape"
      ],
      "metadata": {
        "colab": {
          "base_uri": "https://localhost:8080/"
        },
        "id": "ewKkWrbfrWQL",
        "outputId": "a93ff74d-00c2-4dfa-bfca-40800b65f62e"
      },
      "execution_count": null,
      "outputs": [
        {
          "output_type": "execute_result",
          "data": {
            "text/plain": [
              "(50000, 32, 32, 3)"
            ]
          },
          "metadata": {},
          "execution_count": 2
        }
      ]
    },
    {
      "cell_type": "code",
      "source": [
        "x_test.shape"
      ],
      "metadata": {
        "colab": {
          "base_uri": "https://localhost:8080/"
        },
        "id": "nuiHcKc6rXrK",
        "outputId": "5e0425f7-b2ff-4b6a-9faf-dd3ee3bbf53c"
      },
      "execution_count": null,
      "outputs": [
        {
          "output_type": "execute_result",
          "data": {
            "text/plain": [
              "(10000, 32, 32, 3)"
            ]
          },
          "metadata": {},
          "execution_count": 3
        }
      ]
    },
    {
      "cell_type": "code",
      "source": [
        "plt.imshow(x_train[30])\n",
        "plt.xlabel"
      ],
      "metadata": {
        "colab": {
          "base_uri": "https://localhost:8080/",
          "height": 447
        },
        "id": "AdpTb1bxrZ4a",
        "outputId": "4db71bf6-d16c-4779-8247-f0f892599df0"
      },
      "execution_count": null,
      "outputs": [
        {
          "output_type": "execute_result",
          "data": {
            "text/plain": [
              "<function matplotlib.pyplot.xlabel(xlabel, fontdict=None, labelpad=None, *, loc=None, **kwargs)>"
            ]
          },
          "metadata": {},
          "execution_count": 4
        },
        {
          "output_type": "display_data",
          "data": {
            "text/plain": [
              "<Figure size 640x480 with 1 Axes>"
            ],
            "image/png": "[encoded data removed]"
          },
          "metadata": {}
        }
      ]
    },
    {
      "cell_type": "code",
      "source": [
        "import tensorflow as tf\n",
        "from tensorflow.keras import layers, models\n",
        "from tensorflow.keras.datasets import cifar100\n",
        "from tensorflow.keras.utils import to_categorical\n",
        "\n",
        "# Load and preprocess the CIFAR-100 dataset\n",
        "(train_images, train_labels), (test_images, test_labels) = cifar100.load_data()\n",
        "train_images = train_images.astype('float32') / 255.0\n",
        "test_images = test_images.astype('float32') / 255.0\n",
        "\n",
        "# One-hot encode the labels\n",
        "train_labels = to_categorical(train_labels, num_classes=100)  # Update num_classes to 100\n",
        "test_labels = to_categorical(test_labels, num_classes=100)    # Update num_classes to 100\n",
        "\n",
        "# Build the CNN model\n",
        "model = models.Sequential()\n",
        "model.add(layers.Conv2D(32, (3, 3), activation='relu', input_shape=(32, 32, 3)))\n",
        "model.add(layers.MaxPooling2D((2, 2)))\n",
        "model.add(layers.Conv2D(64, (3, 3), activation='relu'))\n",
        "model.add(layers.MaxPooling2D((2, 2)))\n",
        "model.add(layers.Conv2D(64, (3, 3), activation='relu'))\n",
        "model.add(layers.Flatten())\n",
        "model.add(layers.Dense(64, activation='relu'))\n",
        "model.add(layers.Dense(100, activation='softmax'))  # Update to 100 units and 'softmax' activation\n",
        "\n",
        "# Compile the model\n",
        "model.compile(optimizer='adam',\n",
        "              loss='categorical_crossentropy',\n",
        "              metrics=['accuracy'])\n",
        "\n",
        "# Train the model\n",
        "model.fit(train_images, train_labels, epochs=250, batch_size=64, validation_data=(test_images, test_labels))\n",
        "\n",
        "# Evaluate the model on the test set\n",
        "test_loss, test_acc = model.evaluate(test_images, test_labels)\n",
        "print(f'Test accuracy: {test_acc}')\n",
        "\n",
        "# Save the model\n",
        "model.save('image_classification_model.h5')"
      ],
      "metadata": {
        "id": "zXCFrUISrgGq"
      },
      "execution_count": null,
      "outputs": []
    },
    {
      "cell_type": "code",
      "source": [
        "import tensorflow as tf\n",
        "from tensorflow.keras import layers, models\n",
        "from tensorflow.keras.datasets import cifar100\n",
        "from tensorflow.keras.utils import to_categorical\n",
        "from tensorflow.keras.preprocessing.image import ImageDataGenerator\n",
        "\n",
        "# Load and preprocess the CIFAR-100 dataset\n",
        "(train_images, train_labels), (test_images, test_labels) = cifar100.load_data()\n",
        "train_images = train_images.astype('float32') / 255.0\n",
        "test_images = test_images.astype('float32') / 255.0\n",
        "\n",
        "# One-hot encode the labels\n",
        "num_classes = 100\n",
        "train_labels = to_categorical(train_labels, num_classes=num_classes)\n",
        "test_labels = to_categorical(test_labels, num_classes=num_classes)\n",
        "\n",
        "# Data augmentation\n",
        "datagen = ImageDataGenerator(\n",
        "    rotation_range=20,\n",
        "    width_shift_range=0.2,\n",
        "    height_shift_range=0.2,\n",
        "    shear_range=0.2,\n",
        "    zoom_range=0.2,\n",
        "    horizontal_flip=True,\n",
        "    fill_mode='nearest'\n",
        ")\n",
        "\n",
        "# Build the CNN model\n",
        "model = models.Sequential()\n",
        "model.add(layers.Conv2D(32, (3, 3), activation='relu', input_shape=(32, 32, 3)))\n",
        "model.add(layers.BatchNormalization())\n",
        "model.add(layers.MaxPooling2D((2, 2)))\n",
        "model.add(layers.Conv2D(64, (3, 3), activation='relu'))\n",
        "model.add(layers.BatchNormalization())\n",
        "model.add(layers.MaxPooling2D((2, 2)))\n",
        "model.add(layers.Conv2D(128, (3, 3), activation='relu'))\n",
        "model.add(layers.BatchNormalization())\n",
        "model.add(layers.Flatten())\n",
        "model.add(layers.Dense(256, activation='relu'))\n",
        "model.add(layers.Dropout(0.5))\n",
        "model.add(layers.Dense(num_classes, activation='softmax'))\n",
        "\n",
        "# Compile the model\n",
        "model.compile(optimizer='adam',\n",
        "              loss='categorical_crossentropy',\n",
        "              metrics=['accuracy'])\n",
        "\n",
        "# Train the model with data augmentation\n",
        "history = model.fit(datagen.flow(train_images, train_labels, batch_size=64),\n",
        "                    epochs=50,\n",
        "                    validation_data=(test_images, test_labels))\n",
        "\n",
        "# Evaluate the model on the test set\n",
        "test_loss, test_acc = model.evaluate(test_images, test_labels)\n",
        "print(f'Test accuracy: {test_acc}')\n",
        "\n",
        "# Save the model\n",
        "model.save('improved_image_classification_model.h5')\n"
      ],
      "metadata": {
        "colab": {
          "base_uri": "https://localhost:8080/"
        },
        "id": "ywkAyv3IriA6",
        "outputId": "8097497d-5490-46ca-ad0b-9726baaded79"
      },
      "execution_count": null,
      "outputs": [
        {
          "output_type": "stream",
          "name": "stdout",
          "text": [
            "Epoch 1/50\n",
            "782/782 [==============================] - 37s 42ms/step - loss: 4.3070 - accuracy: 0.0750 - val_loss: 3.9373 - val_accuracy: 0.1162\n",
            "Epoch 2/50\n",
            "782/782 [==============================] - 32s 41ms/step - loss: 3.7539 - accuracy: 0.1293 - val_loss: 3.2474 - val_accuracy: 0.2122\n",
            "Epoch 3/50\n",
            "782/782 [==============================] - 33s 42ms/step - loss: 3.5542 - accuracy: 0.1574 - val_loss: 3.1130 - val_accuracy: 0.2257\n",
            "Epoch 4/50\n",
            "782/782 [==============================] - 32s 41ms/step - loss: 3.4268 - accuracy: 0.1734 - val_loss: 3.4978 - val_accuracy: 0.1965\n",
            "Epoch 5/50\n",
            "782/782 [==============================] - 33s 42ms/step - loss: 3.2963 - accuracy: 0.2000 - val_loss: 3.0410 - val_accuracy: 0.2548\n",
            "Epoch 6/50\n",
            "782/782 [==============================] - 33s 42ms/step - loss: 3.2132 - accuracy: 0.2177 - val_loss: 2.9928 - val_accuracy: 0.2563\n",
            "Epoch 7/50\n",
            "782/782 [==============================] - 32s 41ms/step - loss: 3.1201 - accuracy: 0.2314 - val_loss: 2.8019 - val_accuracy: 0.2904\n",
            "Epoch 8/50\n",
            "782/782 [==============================] - 33s 42ms/step - loss: 3.0487 - accuracy: 0.2434 - val_loss: 2.6378 - val_accuracy: 0.3259\n",
            "Epoch 9/50\n",
            "782/782 [==============================] - 33s 42ms/step - loss: 2.9944 - accuracy: 0.2554 - val_loss: 2.5520 - val_accuracy: 0.3470\n",
            "Epoch 10/50\n",
            "782/782 [==============================] - 33s 42ms/step - loss: 2.9325 - accuracy: 0.2678 - val_loss: 2.5512 - val_accuracy: 0.3463\n",
            "Epoch 11/50\n",
            "782/782 [==============================] - 33s 43ms/step - loss: 2.8767 - accuracy: 0.2819 - val_loss: 2.4780 - val_accuracy: 0.3552\n",
            "Epoch 12/50\n",
            "782/782 [==============================] - 32s 40ms/step - loss: 2.8496 - accuracy: 0.2849 - val_loss: 2.4582 - val_accuracy: 0.3658\n",
            "Epoch 13/50\n",
            "782/782 [==============================] - 33s 43ms/step - loss: 2.8010 - accuracy: 0.2916 - val_loss: 2.3331 - val_accuracy: 0.3960\n",
            "Epoch 14/50\n",
            "782/782 [==============================] - 32s 41ms/step - loss: 2.7655 - accuracy: 0.2992 - val_loss: 2.4190 - val_accuracy: 0.3728\n",
            "Epoch 15/50\n",
            "782/782 [==============================] - 32s 41ms/step - loss: 2.7338 - accuracy: 0.3071 - val_loss: 2.4623 - val_accuracy: 0.3632\n",
            "Epoch 16/50\n",
            "782/782 [==============================] - 33s 42ms/step - loss: 2.7105 - accuracy: 0.3128 - val_loss: 2.2329 - val_accuracy: 0.4109\n",
            "Epoch 17/50\n",
            "782/782 [==============================] - 32s 41ms/step - loss: 2.6831 - accuracy: 0.3177 - val_loss: 2.4410 - val_accuracy: 0.3812\n",
            "Epoch 18/50\n",
            "782/782 [==============================] - 33s 42ms/step - loss: 2.6619 - accuracy: 0.3216 - val_loss: 2.4174 - val_accuracy: 0.3737\n",
            "Epoch 19/50\n",
            "782/782 [==============================] - 32s 42ms/step - loss: 2.6289 - accuracy: 0.3288 - val_loss: 2.1563 - val_accuracy: 0.4287\n",
            "Epoch 20/50\n",
            "782/782 [==============================] - 33s 42ms/step - loss: 2.6093 - accuracy: 0.3327 - val_loss: 2.2955 - val_accuracy: 0.3901\n",
            "Epoch 21/50\n",
            "782/782 [==============================] - 33s 42ms/step - loss: 2.6024 - accuracy: 0.3353 - val_loss: 2.4228 - val_accuracy: 0.3683\n",
            "Epoch 22/50\n",
            "782/782 [==============================] - 32s 41ms/step - loss: 2.5789 - accuracy: 0.3416 - val_loss: 2.1579 - val_accuracy: 0.4298\n",
            "Epoch 23/50\n",
            "782/782 [==============================] - 33s 42ms/step - loss: 2.5620 - accuracy: 0.3414 - val_loss: 2.1277 - val_accuracy: 0.4340\n",
            "Epoch 24/50\n",
            "782/782 [==============================] - 32s 41ms/step - loss: 2.5519 - accuracy: 0.3456 - val_loss: 2.0640 - val_accuracy: 0.4510\n",
            "Epoch 25/50\n",
            "782/782 [==============================] - 33s 42ms/step - loss: 2.5412 - accuracy: 0.3454 - val_loss: 2.0419 - val_accuracy: 0.4556\n",
            "Epoch 26/50\n",
            "782/782 [==============================] - 32s 41ms/step - loss: 2.5182 - accuracy: 0.3478 - val_loss: 2.0989 - val_accuracy: 0.4460\n",
            "Epoch 27/50\n",
            "782/782 [==============================] - 33s 42ms/step - loss: 2.5142 - accuracy: 0.3519 - val_loss: 2.1985 - val_accuracy: 0.4222\n",
            "Epoch 28/50\n",
            "782/782 [==============================] - 32s 41ms/step - loss: 2.4901 - accuracy: 0.3582 - val_loss: 2.1347 - val_accuracy: 0.4373\n",
            "Epoch 29/50\n",
            "782/782 [==============================] - 32s 42ms/step - loss: 2.4777 - accuracy: 0.3601 - val_loss: 2.1692 - val_accuracy: 0.4347\n",
            "Epoch 30/50\n",
            "782/782 [==============================] - 33s 42ms/step - loss: 2.4693 - accuracy: 0.3603 - val_loss: 2.4967 - val_accuracy: 0.3760\n",
            "Epoch 31/50\n",
            "782/782 [==============================] - 32s 41ms/step - loss: 2.4631 - accuracy: 0.3625 - val_loss: 2.0583 - val_accuracy: 0.4505\n",
            "Epoch 32/50\n",
            "782/782 [==============================] - 33s 42ms/step - loss: 2.4542 - accuracy: 0.3635 - val_loss: 2.1510 - val_accuracy: 0.4230\n",
            "Epoch 33/50\n",
            "782/782 [==============================] - 33s 43ms/step - loss: 2.4367 - accuracy: 0.3667 - val_loss: 2.0269 - val_accuracy: 0.4615\n",
            "Epoch 34/50\n",
            "782/782 [==============================] - 33s 42ms/step - loss: 2.4369 - accuracy: 0.3682 - val_loss: 2.0295 - val_accuracy: 0.4576\n",
            "Epoch 35/50\n",
            "782/782 [==============================] - 34s 43ms/step - loss: 2.4166 - accuracy: 0.3709 - val_loss: 2.1012 - val_accuracy: 0.4477\n",
            "Epoch 36/50\n",
            "782/782 [==============================] - 33s 42ms/step - loss: 2.4127 - accuracy: 0.3730 - val_loss: 2.0700 - val_accuracy: 0.4462\n",
            "Epoch 37/50\n",
            "782/782 [==============================] - 33s 42ms/step - loss: 2.4146 - accuracy: 0.3742 - val_loss: 1.9885 - val_accuracy: 0.4630\n",
            "Epoch 38/50\n",
            "782/782 [==============================] - 33s 42ms/step - loss: 2.4057 - accuracy: 0.3743 - val_loss: 1.9612 - val_accuracy: 0.4708\n",
            "Epoch 39/50\n",
            "782/782 [==============================] - 32s 41ms/step - loss: 2.3999 - accuracy: 0.3737 - val_loss: 2.0282 - val_accuracy: 0.4605\n",
            "Epoch 40/50\n",
            "782/782 [==============================] - 32s 41ms/step - loss: 2.3804 - accuracy: 0.3820 - val_loss: 2.0532 - val_accuracy: 0.4621\n",
            "Epoch 41/50\n",
            "782/782 [==============================] - 33s 42ms/step - loss: 2.3858 - accuracy: 0.3774 - val_loss: 1.9944 - val_accuracy: 0.4697\n",
            "Epoch 42/50\n",
            "782/782 [==============================] - 32s 41ms/step - loss: 2.3790 - accuracy: 0.3808 - val_loss: 1.9594 - val_accuracy: 0.4760\n",
            "Epoch 43/50\n",
            "782/782 [==============================] - 32s 41ms/step - loss: 2.3684 - accuracy: 0.3832 - val_loss: 1.9625 - val_accuracy: 0.4729\n",
            "Epoch 44/50\n",
            "782/782 [==============================] - 33s 42ms/step - loss: 2.3626 - accuracy: 0.3828 - val_loss: 2.0529 - val_accuracy: 0.4607\n",
            "Epoch 45/50\n",
            "782/782 [==============================] - 32s 41ms/step - loss: 2.3553 - accuracy: 0.3838 - val_loss: 2.0884 - val_accuracy: 0.4461\n",
            "Epoch 46/50\n",
            "782/782 [==============================] - 32s 41ms/step - loss: 2.3534 - accuracy: 0.3892 - val_loss: 2.0284 - val_accuracy: 0.4617\n",
            "Epoch 47/50\n",
            "782/782 [==============================] - 33s 42ms/step - loss: 2.3478 - accuracy: 0.3887 - val_loss: 1.9637 - val_accuracy: 0.4772\n",
            "Epoch 48/50\n",
            "782/782 [==============================] - 32s 41ms/step - loss: 2.3493 - accuracy: 0.3858 - val_loss: 2.3589 - val_accuracy: 0.4068\n",
            "Epoch 49/50\n",
            "782/782 [==============================] - 34s 43ms/step - loss: 2.3346 - accuracy: 0.3901 - val_loss: 2.0961 - val_accuracy: 0.4454\n",
            "Epoch 50/50\n",
            "782/782 [==============================] - 33s 42ms/step - loss: 2.3338 - accuracy: 0.3907 - val_loss: 2.0220 - val_accuracy: 0.4626\n",
            "313/313 [==============================] - 1s 3ms/step - loss: 2.0220 - accuracy: 0.4626\n",
            "Test accuracy: 0.4625999927520752\n"
          ]
        },
        {
          "output_type": "stream",
          "name": "stderr",
          "text": [
            "/usr/local/lib/python3.10/dist-packages/keras/src/engine/training.py:3103: UserWarning: You are saving your model as an HDF5 file via `model.save()`. This file format is considered legacy. We recommend using instead the native Keras format, e.g. `model.save('my_model.keras')`.\n",
            "  saving_api.save_model(\n"
          ]
        }
      ]
    }
  ]
}