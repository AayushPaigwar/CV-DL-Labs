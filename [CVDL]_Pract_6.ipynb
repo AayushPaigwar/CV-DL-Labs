{
  "nbformat": 4,
  "nbformat_minor": 0,
  "metadata": {
    "colab": {
      "provenance": [],
      "gpuType": "T4",
      "authorship_tag": "ABX9TyPcTQrgnwOKgRSwfNYEku4K",
      "include_colab_link": true
    },
    "kernelspec": {
      "name": "python3",
      "display_name": "Python 3"
    },
    "language_info": {
      "name": "python"
    },
    "accelerator": "GPU"
  },
  "cells": [
    {
      "cell_type": "markdown",
      "metadata": {
        "id": "view-in-github",
        "colab_type": "text"
      },
      "source": [
        "<a href=\"https://colab.research.google.com/github/AayushPaigwar/CV-DL-Labs/blob/master/%5BCVDL%5D_Pract_6.ipynb\" target=\"_parent\"><img src=\"https://colab.research.google.com/assets/colab-badge.svg\" alt=\"Open In Colab\"/></a>"
      ]
    },
    {
      "cell_type": "code",
      "execution_count": null,
      "metadata": {
        "colab": {
          "base_uri": "https://localhost:8080/"
        },
        "id": "t2wPtAntQKH-",
        "outputId": "01e2a2ca-7910-4502-dacb-e1fd49fc0715"
      },
      "outputs": [
        {
          "output_type": "stream",
          "name": "stdout",
          "text": [
            "Downloading data from https://www.cs.toronto.edu/~kriz/cifar-10-python.tar.gz\n",
            "170498071/170498071 [==============================] - 4s 0us/step\n",
            "Epoch 1/10\n",
            "782/782 [==============================] - 16s 10ms/step - loss: 1.3166 - accuracy: 0.5239 - val_loss: 1.5802 - val_accuracy: 0.4546\n",
            "Epoch 2/10\n",
            "782/782 [==============================] - 6s 8ms/step - loss: 0.9816 - accuracy: 0.6515 - val_loss: 1.3026 - val_accuracy: 0.5385\n",
            "Epoch 3/10\n",
            "782/782 [==============================] - 7s 9ms/step - loss: 0.8300 - accuracy: 0.7071 - val_loss: 1.1725 - val_accuracy: 0.5998\n",
            "Epoch 4/10\n",
            "782/782 [==============================] - 6s 8ms/step - loss: 0.7304 - accuracy: 0.7449 - val_loss: 1.0626 - val_accuracy: 0.6411\n",
            "Epoch 5/10\n",
            "782/782 [==============================] - 7s 9ms/step - loss: 0.6568 - accuracy: 0.7714 - val_loss: 1.5292 - val_accuracy: 0.5369\n",
            "Epoch 6/10\n",
            "782/782 [==============================] - 7s 8ms/step - loss: 0.6077 - accuracy: 0.7882 - val_loss: 0.8845 - val_accuracy: 0.6943\n",
            "Epoch 7/10\n",
            "782/782 [==============================] - 7s 9ms/step - loss: 0.5533 - accuracy: 0.8066 - val_loss: 0.8904 - val_accuracy: 0.7060\n",
            "Epoch 8/10\n",
            "702/782 [=========================>....] - ETA: 0s - loss: 0.5032 - accuracy: 0.8253"
          ]
        }
      ],
      "source": [
        "import tensorflow as tf\n",
        "from tensorflow.keras import layers, Model\n",
        "from tensorflow.keras.datasets import cifar10\n",
        "from tensorflow.keras.utils import to_categorical\n",
        "\n",
        "\n",
        "# Load CIFAR-10 dataset\n",
        "(train_images, train_labels), (test_images, test_labels) = cifar10.load_data()\n",
        "train_images, test_images = train_images / 255.0, test_images / 255.0\n",
        "train_labels = to_categorical(train_labels, num_classes=10)\n",
        "test_labels = to_categorical(test_labels, num_classes=10)\n",
        "\n",
        "\n",
        "# Define ResNet block\n",
        "def resnet_block(input_layer, filters, strides=1):\n",
        "    x = layers.Conv2D(filters, 3, strides=strides, padding='same')(input_layer)\n",
        "    x = layers.BatchNormalization()(x)\n",
        "    x = layers.ReLU()(x)\n",
        "    x = layers.Conv2D(filters, 3, padding='same')(x)\n",
        "    x = layers.BatchNormalization()(x)\n",
        "\n",
        "\n",
        "    if strides != 1:\n",
        "        input_layer = layers.Conv2D(filters, 1, strides=strides)(input_layer)\n",
        "\n",
        "    x = layers.Add()([x, input_layer])\n",
        "    x = layers.ReLU()(x)\n",
        "    return x\n",
        "\n",
        "\n",
        "# Define ResNet model\n",
        "inputs = tf.keras.Input(shape=(32, 32, 3))\n",
        "x = layers.Conv2D(64, 7, strides=2, padding='same')(inputs)\n",
        "x = layers.BatchNormalization()(x)\n",
        "x = layers.ReLU()(x)\n",
        "x = layers.MaxPooling2D(pool_size=3, strides=2, padding='same')(x)\n",
        "\n",
        "\n",
        "x = resnet_block(x, 64)\n",
        "x = resnet_block(x, 64)\n",
        "x = resnet_block(x, 64)\n",
        "\n",
        "\n",
        "x = layers.GlobalAveragePooling2D()(x)\n",
        "outputs = layers.Dense(10, activation='softmax')(x)\n",
        "\n",
        "\n",
        "model = Model(inputs, outputs)\n",
        "\n",
        "\n",
        "# Compile and train the model\n",
        "model.compile(optimizer='adam',\n",
        "              loss='categorical_crossentropy',\n",
        "              metrics=['accuracy'])\n",
        "\n",
        "\n",
        "model.fit(train_images, train_labels, epochs=10, batch_size=64, validation_data=(test_images, test_labels))\n"
      ]
    },
    {
      "cell_type": "code",
      "source": [],
      "metadata": {
        "id": "JNYA9yCpQKrt"
      },
      "execution_count": null,
      "outputs": []
    }
  ]
}