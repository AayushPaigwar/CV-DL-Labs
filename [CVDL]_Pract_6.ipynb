{
  "cells": [
    {
      "cell_type": "markdown",
      "metadata": {
        "id": "view-in-github",
        "colab_type": "text"
      },
      "source": [
        "<a href=\"https://colab.research.google.com/github/AayushPaigwar/CV-DL-Labs/blob/master/%5BCVDL%5D_Pract_6.ipynb\" target=\"_parent\"><img src=\"https://colab.research.google.com/assets/colab-badge.svg\" alt=\"Open In Colab\"/></a>"
      ]
    },
    {
      "cell_type": "code",
      "execution_count": 2,
      "metadata": {
        "colab": {
          "base_uri": "https://localhost:8080/"
        },
        "id": "t2wPtAntQKH-",
        "outputId": "e32d5b56-fa09-4453-b2b6-d769b6aa87b7"
      },
      "outputs": [
        {
          "output_type": "stream",
          "name": "stdout",
          "text": [
            "Epoch 1/10\n",
            "782/782 [==============================] - 11s 9ms/step - loss: 1.3488 - accuracy: 0.5147 - val_loss: 2.3611 - val_accuracy: 0.3303\n",
            "Epoch 2/10\n",
            "782/782 [==============================] - 7s 9ms/step - loss: 0.9953 - accuracy: 0.6483 - val_loss: 1.3091 - val_accuracy: 0.5549\n",
            "Epoch 3/10\n",
            "782/782 [==============================] - 6s 8ms/step - loss: 0.8428 - accuracy: 0.7027 - val_loss: 1.3046 - val_accuracy: 0.5606\n",
            "Epoch 4/10\n",
            "782/782 [==============================] - 7s 9ms/step - loss: 0.7431 - accuracy: 0.7392 - val_loss: 2.1940 - val_accuracy: 0.4695\n",
            "Epoch 5/10\n",
            "782/782 [==============================] - 6s 8ms/step - loss: 0.6718 - accuracy: 0.7668 - val_loss: 0.8783 - val_accuracy: 0.6896\n",
            "Epoch 6/10\n",
            "782/782 [==============================] - 7s 8ms/step - loss: 0.6093 - accuracy: 0.7871 - val_loss: 1.4300 - val_accuracy: 0.5709\n",
            "Epoch 7/10\n",
            "782/782 [==============================] - 6s 8ms/step - loss: 0.5643 - accuracy: 0.8021 - val_loss: 0.8661 - val_accuracy: 0.7121\n",
            "Epoch 8/10\n",
            "782/782 [==============================] - 7s 9ms/step - loss: 0.5166 - accuracy: 0.8193 - val_loss: 0.9788 - val_accuracy: 0.6815\n",
            "Epoch 9/10\n",
            "782/782 [==============================] - 6s 8ms/step - loss: 0.4753 - accuracy: 0.8350 - val_loss: 0.9590 - val_accuracy: 0.6945\n",
            "Epoch 10/10\n",
            "782/782 [==============================] - 7s 8ms/step - loss: 0.4365 - accuracy: 0.8469 - val_loss: 0.8304 - val_accuracy: 0.7260\n",
            "<bound method Model.predict of <keras.src.engine.functional.Functional object at 0x7feb806835b0>>\n"
          ]
        }
      ],
      "source": [
        "import tensorflow as tf\n",
        "from tensorflow.keras import layers, Model\n",
        "from tensorflow.keras.datasets import cifar10\n",
        "from tensorflow.keras.utils import to_categorical\n",
        "\n",
        "\n",
        "# Load CIFAR-10 dataset\n",
        "(train_images, train_labels), (test_images, test_labels) = cifar10.load_data()\n",
        "train_images, test_images = train_images / 255.0, test_images / 255.0\n",
        "train_labels = to_categorical(train_labels, num_classes=10)\n",
        "test_labels = to_categorical(test_labels, num_classes=10)\n",
        "\n",
        "\n",
        "# Define ResNet block\n",
        "def resnet_block(input_layer, filters, strides=1):\n",
        "    x = layers.Conv2D(filters, 3, strides=strides, padding='same')(input_layer)\n",
        "    x = layers.BatchNormalization()(x)\n",
        "    x = layers.ReLU()(x)\n",
        "    x = layers.Conv2D(filters, 3, padding='same')(x)\n",
        "    x = layers.BatchNormalization()(x)\n",
        "\n",
        "\n",
        "    if strides != 1:\n",
        "        input_layer = layers.Conv2D(filters, 1, strides=strides)(input_layer)\n",
        "\n",
        "    x = layers.Add()([x, input_layer])\n",
        "    x = layers.ReLU()(x)\n",
        "    return x\n",
        "\n",
        "\n",
        "# Define ResNet model\n",
        "inputs = tf.keras.Input(shape=(32, 32, 3))\n",
        "x = layers.Conv2D(64, 7, strides=2, padding='same')(inputs)\n",
        "x = layers.BatchNormalization()(x)\n",
        "x = layers.ReLU()(x)\n",
        "x = layers.MaxPooling2D(pool_size=3, strides=2, padding='same')(x)\n",
        "\n",
        "\n",
        "x = resnet_block(x, 64)\n",
        "x = resnet_block(x, 64)\n",
        "x = resnet_block(x, 64)\n",
        "\n",
        "\n",
        "x = layers.GlobalAveragePooling2D()(x)\n",
        "outputs = layers.Dense(10, activation='softmax')(x)\n",
        "\n",
        "\n",
        "model = Model(inputs, outputs)\n",
        "\n",
        "\n",
        "# Compile and train the model\n",
        "model.compile(optimizer='adam',\n",
        "              loss='categorical_crossentropy',\n",
        "              metrics=['accuracy'])\n",
        "\n",
        "\n",
        "model.fit(train_images, train_labels, epochs=10, batch_size=64, validation_data=(test_images, test_labels))\n"
      ]
    },
    {
      "cell_type": "code",
      "source": [
        "loss, accuracy = model.evaluate(test_images, test_labels)\n",
        "print(\"Test Accuracy:\", accuracy)\n",
        "\n"
      ],
      "metadata": {
        "colab": {
          "base_uri": "https://localhost:8080/"
        },
        "id": "nAzOYHPWYQIZ",
        "outputId": "18e0b3fb-4efc-4eb2-9c9d-52ebe89755b3"
      },
      "execution_count": 9,
      "outputs": [
        {
          "output_type": "stream",
          "name": "stdout",
          "text": [
            "313/313 [==============================] - 1s 3ms/step - loss: 0.8304 - accuracy: 0.7260\n",
            "Test Accuracy: 0.7260000109672546\n"
          ]
        }
      ]
    },
    {
      "cell_type": "code",
      "source": [],
      "metadata": {
        "id": "gwqj4gSLY_7i"
      },
      "execution_count": null,
      "outputs": []
    }
  ],
  "metadata": {
    "colab": {
      "provenance": [],
      "gpuType": "T4",
      "authorship_tag": "ABX9TyOsvN/e2rraHL1IKnZn91td",
      "include_colab_link": true
    },
    "kernelspec": {
      "display_name": "Python 3",
      "name": "python3"
    },
    "language_info": {
      "name": "python"
    },
    "accelerator": "GPU"
  },
  "nbformat": 4,
  "nbformat_minor": 0
}